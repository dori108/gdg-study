{
  "nbformat": 4,
  "nbformat_minor": 0,
  "metadata": {
    "colab": {
      "provenance": [],
      "authorship_tag": "ABX9TyNZmB77SpkWb/kD4LI61nLH",
      "include_colab_link": true
    },
    "kernelspec": {
      "name": "python3",
      "display_name": "Python 3"
    },
    "language_info": {
      "name": "python"
    }
  },
  "cells": [
    {
      "cell_type": "markdown",
      "metadata": {
        "id": "view-in-github",
        "colab_type": "text"
      },
      "source": [
        "<a href=\"https://colab.research.google.com/github/dori108/gdg-study/blob/main/4_1_%EB%A0%88%EC%A6%88%EB%84%B7_.ipynb\" target=\"_parent\"><img src=\"https://colab.research.google.com/assets/colab-badge.svg\" alt=\"Open In Colab\"/></a>"
      ]
    },
    {
      "cell_type": "markdown",
      "source": [
        "1. 사전 학습된 모델의 성능 체험\n",
        "ResNet50(weights='imagenet')은 ImageNet 데이터셋에서 이미 훈련된 모델\n",
        "→ 복잡한 모델을 직접 학습하지 않아도 고성능 분류를 즉시 테스트할 수 있음\n",
        "\n",
        "2. 이미지 분류 결과 확인\n",
        "'4-7-푸들.png' 이미지를 입력하고,\n",
        "\n",
        "ResNet50이 이 이미지를 어떻게 인식하는지를 Top-3 예측 결과로 출력\n",
        "→ 예: 'poodle' 확률: 95.2%처럼 결과가 나옴\n",
        "\n",
        "3. 이미지 전처리와 추론 과정 학습\n",
        "image.load_img(), preprocess_input(), tf.expand_dims() 등\n",
        "→ 이미지 분류 입력 파이프라인 흐름을 익히자!"
      ],
      "metadata": {
        "id": "z9IXThNIslYC"
      }
    },
    {
      "cell_type": "code",
      "execution_count": null,
      "metadata": {
        "colab": {
          "base_uri": "https://localhost:8080/"
        },
        "id": "5_wH2IJsofC9",
        "outputId": "fa97cc56-7e85-4877-c565-8f106e4c4234"
      },
      "outputs": [
        {
          "output_type": "stream",
          "name": "stdout",
          "text": [
            "Downloading...\n",
            "From: https://drive.google.com/uc?id=1WI3FPChY3DFnrNEP3Fk_C61bcMxkr4-b\n",
            "To: /content/4-7-푸들.png\n",
            "\r  0% 0.00/113k [00:00<?, ?B/s]\r100% 113k/113k [00:00<00:00, 67.3MB/s]\n",
            "Downloading data from https://storage.googleapis.com/tensorflow/keras-applications/resnet/resnet50_weights_tf_dim_ordering_tf_kernels.h5\n",
            "\u001b[1m102967424/102967424\u001b[0m \u001b[32m━━━━━━━━━━━━━━━━━━━━\u001b[0m\u001b[37m\u001b[0m \u001b[1m1s\u001b[0m 0us/step\n",
            "\u001b[1m1/1\u001b[0m \u001b[32m━━━━━━━━━━━━━━━━━━━━\u001b[0m\u001b[37m\u001b[0m \u001b[1m3s\u001b[0m 3s/step\n",
            "Downloading data from https://storage.googleapis.com/download.tensorflow.org/data/imagenet_class_index.json\n",
            "\u001b[1m35363/35363\u001b[0m \u001b[32m━━━━━━━━━━━━━━━━━━━━\u001b[0m\u001b[37m\u001b[0m \u001b[1m0s\u001b[0m 0us/step\n",
            "miniature_poodle 확률: 0.66%\n",
            "toy_poodle 확률: 0.30%\n",
            "standard_poodle 확률: 0.02%\n"
          ]
        }
      ],
      "source": [
        "!gdown 1WI3FPChY3DFnrNEP3Fk_C61bcMxkr4-b\n",
        "import tensorflow as tf\n",
        "from tensorflow.keras.applications import ResNet50\n",
        "from tensorflow.keras.preprocessing import image\n",
        "from tensorflow.keras.applications.resnet import preprocess_input, decode_predictions\n",
        "\n",
        "# ResNet 모델 불러오기\n",
        "resnet_model = ResNet50(weights='imagenet', include_top=True)\n",
        "\n",
        "# 이미지 전처리 및 예측\n",
        "PATH = './'\n",
        "FILE_NAME = '4-7-푸들.png'\n",
        "img = image.load_img(PATH + FILE_NAME, target_size=(224, 224))\n",
        "input_image = image.img_to_array(img)\n",
        "input_image = preprocess_input(input_image)\n",
        "input_image = tf.expand_dims(input_image, axis=0)\n",
        "\n",
        "predictions = resnet_model.predict(input_image)\n",
        "decoded_predictions = decode_predictions(predictions, top=3)[0]\n",
        "\n",
        "for class_id, class_name, probability in decoded_predictions:\n",
        "  print(f\"{class_name} 확률: {probability:.2f}%\")\n",
        "\n"
      ]
    },
    {
      "cell_type": "markdown",
      "source": [
        "왜 이렇게 낮은 확률이 나왔을까?\n",
        "입력 이미지가 ResNet50이 기대한 품질과 다를 수 있음\n",
        "흐리거나, 너무 가까이 찍었거나, 배경이 복잡할 수도 있음\n",
        "이미지 사이즈나 채널 정규화 오류\n",
        "\n",
        "preprocess_input()을 안 썼거나, float32로 변환되지 않은 경우엔 확률이 낮게 나올 수 있어요.\n",
        "→ 하지만 이 코드에서는 전처리를 잘 했기 때문에 가능성은 낮습니다.\n",
        "\n",
        "ResNet50은 ImageNet 기준으로 훈련됨\n",
        "\n",
        "ImageNet에 있는 푸들 사진과 여러분의 사진이 스타일이나 구도가 너무 다르면\n",
        "→ 자신 있게 예측하지 못할 수 있습니다.\n",
        "\n",
        "출력값이 Softmax이기 때문에 전체 클래스 중 상대적인 확률\n",
        "\n",
        "1000개의 클래스 중에 가장 높은 확률이 **0.66%**인 것일 수 있어요.\n",
        "→ 이 경우 모델이 자신 없는 상태라고 볼 수 있습니다."
      ],
      "metadata": {
        "id": "mTTcW-S2tCWS"
      }
    }
  ]
}